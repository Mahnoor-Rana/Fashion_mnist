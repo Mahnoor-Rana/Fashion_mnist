{
 "cells": [
  {
   "cell_type": "code",
   "execution_count": 20,
   "id": "ba1e0191",
   "metadata": {},
   "outputs": [],
   "source": [
    "import pandas as pd \n",
    "import numpy as np \n",
    "import tensorflow as tf \n",
    "from tensorflow import keras \n",
    "import matplotlib.pyplot as plt"
   ]
  },
  {
   "cell_type": "markdown",
   "id": "7562bdff",
   "metadata": {},
   "source": [
    "## Load the dataset"
   ]
  },
  {
   "cell_type": "markdown",
   "id": "1d5e1fa9",
   "metadata": {},
   "source": [
    "Our dataset contains different traininig images that belongs to 10 classes"
   ]
  },
  {
   "cell_type": "code",
   "execution_count": 21,
   "id": "8913f2b5",
   "metadata": {},
   "outputs": [],
   "source": [
    "(X_train,y_train),(X_test,y_test) = keras.datasets.fashion_mnist.load_data()"
   ]
  },
  {
   "cell_type": "code",
   "execution_count": 22,
   "id": "d195e00f",
   "metadata": {},
   "outputs": [
    {
     "data": {
      "text/plain": [
       "(60000, 28, 28)"
      ]
     },
     "execution_count": 22,
     "metadata": {},
     "output_type": "execute_result"
    }
   ],
   "source": [
    "## shape \n",
    "X_train.shape"
   ]
  },
  {
   "cell_type": "code",
   "execution_count": 23,
   "id": "7a38ae66",
   "metadata": {},
   "outputs": [
    {
     "data": {
      "text/plain": [
       "(60000,)"
      ]
     },
     "execution_count": 23,
     "metadata": {},
     "output_type": "execute_result"
    }
   ],
   "source": [
    "y_train.shape"
   ]
  },
  {
   "cell_type": "markdown",
   "id": "96fcf804",
   "metadata": {},
   "source": [
    "## VISUALIZATION"
   ]
  },
  {
   "cell_type": "code",
   "execution_count": 24,
   "id": "d63048ca",
   "metadata": {},
   "outputs": [],
   "source": [
    "def plot(x):\n",
    "    plt.figure(figsize=(5,5))\n",
    "    plt.imshow(X_train[x])"
   ]
  },
  {
   "cell_type": "code",
   "execution_count": 25,
   "id": "b481846c",
   "metadata": {},
   "outputs": [
    {
     "data": {
      "image/png": "[encoded data removed]",
      "text/plain": [
       "<Figure size 360x360 with 1 Axes>"
      ]
     },
     "metadata": {
      "needs_background": "light"
     },
     "output_type": "display_data"
    }
   ],
   "source": [
    "plot(0)"
   ]
  },
  {
   "cell_type": "code",
   "execution_count": 26,
   "id": "40574745",
   "metadata": {},
   "outputs": [
    {
     "data": {
      "image/png": "[encoded data removed]",
      "text/plain": [
       "<Figure size 360x360 with 1 Axes>"
      ]
     },
     "metadata": {
      "needs_background": "light"
     },
     "output_type": "display_data"
    }
   ],
   "source": [
    "plot(8)"
   ]
  },
  {
   "cell_type": "code",
   "execution_count": 27,
   "id": "25a2c814",
   "metadata": {},
   "outputs": [
    {
     "data": {
      "image/png": "[encoded data removed]",
      "text/plain": [
       "<Figure size 360x360 with 1 Axes>"
      ]
     },
     "metadata": {
      "needs_background": "light"
     },
     "output_type": "display_data"
    }
   ],
   "source": [
    "plot(6)"
   ]
  },
  {
   "cell_type": "code",
   "execution_count": 37,
   "id": "442748f3",
   "metadata": {},
   "outputs": [],
   "source": [
    "classes = ['T-shirt/top',  'Trouser' ,' Pullover' ,'Dress' ,' Coat', 'Sandal' ,' Shirt' ,'Sneaker',  'Bag'  'Ankle boot']"
   ]
  },
  {
   "cell_type": "code",
   "execution_count": 38,
   "id": "bac3c3b8",
   "metadata": {},
   "outputs": [
    {
     "data": {
      "image/png": "[encoded data removed]",
      "text/plain": [
       "<Figure size 360x360 with 1 Axes>"
      ]
     },
     "metadata": {
      "needs_background": "light"
     },
     "output_type": "display_data"
    }
   ],
   "source": [
    "plot(3)"
   ]
  },
  {
   "cell_type": "code",
   "execution_count": 55,
   "id": "a79f0a48",
   "metadata": {},
   "outputs": [
    {
     "data": {
      "text/plain": [
       "' Pullover'"
      ]
     },
     "execution_count": 55,
     "metadata": {},
     "output_type": "execute_result"
    }
   ],
   "source": [
    "classes[y_train[5]]"
   ]
  },
  {
   "cell_type": "code",
   "execution_count": 56,
   "id": "1410e74a",
   "metadata": {},
   "outputs": [
    {
     "data": {
      "text/plain": [
       "array([9, 0, 0, 3, 0], dtype=uint8)"
      ]
     },
     "execution_count": 56,
     "metadata": {},
     "output_type": "execute_result"
    }
   ],
   "source": [
    "y_train[0:5]"
   ]
  },
  {
   "cell_type": "code",
   "execution_count": 57,
   "id": "a7259401",
   "metadata": {},
   "outputs": [
    {
     "data": {
      "text/plain": [
       "(10000,)"
      ]
     },
     "execution_count": 57,
     "metadata": {},
     "output_type": "execute_result"
    }
   ],
   "source": [
    "y_test.shape"
   ]
  },
  {
   "cell_type": "markdown",
   "id": "48266b94",
   "metadata": {},
   "source": [
    "## Preprocessing scale images"
   ]
  },
  {
   "cell_type": "code",
   "execution_count": 59,
   "id": "aa74e1c0",
   "metadata": {},
   "outputs": [],
   "source": [
    "X_train_scaled = X_train /255\n",
    "X_test_scaled = X_test /255"
   ]
  },
  {
   "cell_type": "code",
   "execution_count": 62,
   "id": "1e9b1bf5",
   "metadata": {},
   "outputs": [
    {
     "data": {
      "text/plain": [
       "array([9, 0, 0, 3, 0, 2, 7, 2], dtype=uint8)"
      ]
     },
     "execution_count": 62,
     "metadata": {},
     "output_type": "execute_result"
    }
   ],
   "source": [
    "y_train[:8]"
   ]
  },
  {
   "cell_type": "code",
   "execution_count": 63,
   "id": "f5ded4e1",
   "metadata": {},
   "outputs": [],
   "source": [
    "y_train_categorical = keras.utils.to_categorical(y_train,num_classes=10 ,dtype='float32')\n"
   ]
  },
  {
   "cell_type": "code",
   "execution_count": 66,
   "id": "415db457",
   "metadata": {},
   "outputs": [],
   "source": [
    "y_test_catgorical = keras.utils.to_categorical(y_test,num_classes=10 ,dtype='float32')"
   ]
  },
  {
   "cell_type": "code",
   "execution_count": 67,
   "id": "59990b01",
   "metadata": {},
   "outputs": [
    {
     "data": {
      "text/plain": [
       "array([9, 0, 0, 3, 0, 2, 7, 2], dtype=uint8)"
      ]
     },
     "execution_count": 67,
     "metadata": {},
     "output_type": "execute_result"
    }
   ],
   "source": [
    "y_train[:8]"
   ]
  },
  {
   "cell_type": "code",
   "execution_count": 68,
   "id": "b7b83887",
   "metadata": {},
   "outputs": [
    {
     "data": {
      "text/plain": [
       "array([[0., 0., 0., 0., 0., 0., 0., 0., 0., 1.],\n",
       "       [1., 0., 0., 0., 0., 0., 0., 0., 0., 0.],\n",
       "       [1., 0., 0., 0., 0., 0., 0., 0., 0., 0.],\n",
       "       [0., 0., 0., 1., 0., 0., 0., 0., 0., 0.],\n",
       "       [1., 0., 0., 0., 0., 0., 0., 0., 0., 0.],\n",
       "       [0., 0., 1., 0., 0., 0., 0., 0., 0., 0.],\n",
       "       [0., 0., 0., 0., 0., 0., 0., 1., 0., 0.],\n",
       "       [0., 0., 1., 0., 0., 0., 0., 0., 0., 0.]], dtype=float32)"
      ]
     },
     "execution_count": 68,
     "metadata": {},
     "output_type": "execute_result"
    }
   ],
   "source": [
    "y_train_categorical[:8] ## also called one hot encoding"
   ]
  },
  {
   "cell_type": "markdown",
   "id": "3cfec34a",
   "metadata": {},
   "source": [
    "## MODEL BUILDING AND TRAINING"
   ]
  },
  {
   "cell_type": "code",
   "execution_count": 72,
   "id": "4797169a",
   "metadata": {},
   "outputs": [
    {
     "name": "stdout",
     "output_type": "stream",
     "text": [
      "1875/1875 [==============================] - 56s 30ms/step - loss: 0.6333 - accuracy: 0.7929\n"
     ]
    },
    {
     "data": {
      "text/plain": [
       "<keras.callbacks.History at 0x2df24b5d550>"
      ]
     },
     "execution_count": 72,
     "metadata": {},
     "output_type": "execute_result"
    }
   ],
   "source": [
    "model = keras.Sequential([\n",
    "    keras.layers.Flatten(input_shape=(28,28,)),\n",
    "    keras.layers.Dense(4000, activation = 'relu'),\n",
    "    keras.layers.Dense(500, activation = 'relu'),\n",
    "    keras.layers.Dense(10, activation = 'sigmoid') \n",
    "])\n",
    "model.compile(optimizer= 'SGD', loss='categorical_crossentropy',\n",
    "             metrics = ['accuracy'])\n",
    "model.fit(X_train_scaled,y_train_categorical, epochs = 1)"
   ]
  },
  {
   "cell_type": "markdown",
   "id": "839405b3",
   "metadata": {},
   "source": [
    "## Makes some prediction"
   ]
  },
  {
   "cell_type": "code",
   "execution_count": 73,
   "id": "23932635",
   "metadata": {},
   "outputs": [
    {
     "data": {
      "text/plain": [
       "6"
      ]
     },
     "execution_count": 73,
     "metadata": {},
     "output_type": "execute_result"
    }
   ],
   "source": [
    "np.argmax(model.predict(X_test_scaled)[7])"
   ]
  },
  {
   "cell_type": "code",
   "execution_count": 74,
   "id": "0a388ded",
   "metadata": {},
   "outputs": [
    {
     "data": {
      "text/plain": [
       "6"
      ]
     },
     "execution_count": 74,
     "metadata": {},
     "output_type": "execute_result"
    }
   ],
   "source": [
    "y_test[7]"
   ]
  },
  {
   "cell_type": "code",
   "execution_count": 76,
   "id": "a0927d6d",
   "metadata": {},
   "outputs": [],
   "source": [
    "def get_model():\n",
    "    model = keras.Sequential([\n",
    "        keras.layers.Flatten(input_shape=(28,28,)),\n",
    "        keras.layers.Dense(4000, activation = 'relu'),\n",
    "        keras.layers.Dense(500, activation = 'relu'),\n",
    "        keras.layers.Dense(10, activation = 'sigmoid') \n",
    "        ])\n",
    "    model.compile(optimizer= 'SGD', loss='categorical_crossentropy',\n",
    "             metrics = ['accuracy'])\n",
    "    model.fit(X_train_scaled,y_train_categorical, epochs = 1)\n",
    "    return model"
   ]
  },
  {
   "cell_type": "code",
   "execution_count": 79,
   "id": "9955baf7",
   "metadata": {},
   "outputs": [
    {
     "name": "stdout",
     "output_type": "stream",
     "text": [
      "1875/1875 [==============================] - 82s 44ms/step - loss: 0.6311 - accuracy: 0.7933\n",
      "1875/1875 [==============================] - 77s 41ms/step - loss: 0.4510 - accuracy: 0.8437\n",
      "2min 39s ± 0 ns per loop (mean ± std. dev. of 1 run, 1 loop each)\n"
     ]
    }
   ],
   "source": [
    "%%timeit -n1 -r1 \n",
    "with tf.device('/CPU:0'):\n",
    "    cpu_model = get_model()\n",
    "    cpu_model.fit(X_train_scaled, y_train_categorical, epochs=1)"
   ]
  },
  {
   "cell_type": "code",
   "execution_count": 78,
   "id": "ced99a46",
   "metadata": {},
   "outputs": [
    {
     "name": "stdout",
     "output_type": "stream",
     "text": [
      "1875/1875 [==============================] - 60s 32ms/step - loss: 0.6331 - accuracy: 0.7940\n",
      "1875/1875 [==============================] - 71s 38ms/step - loss: 0.4520 - accuracy: 0.8428\n",
      "2min 11s ± 0 ns per loop (mean ± std. dev. of 1 run, 1 loop each)\n"
     ]
    }
   ],
   "source": [
    "%%timeit -n1 -r1 \n",
    "with tf.device('/GPU:0'):\n",
    "    cpu_model = get_model()\n",
    "    cpu_model.fit(X_train_scaled, y_train_categorical, epochs=1)"
   ]
  }
 ],
 "metadata": {
  "kernelspec": {
   "display_name": "Python 3",
   "language": "python",
   "name": "python3"
  },
  "language_info": {
   "codemirror_mode": {
    "name": "ipython",
    "version": 3
   },
   "file_extension": ".py",
   "mimetype": "text/x-python",
   "name": "python",
   "nbconvert_exporter": "python",
   "pygments_lexer": "ipython3",
   "version": "3.8.8"
  }
 },
 "nbformat": 4,
 "nbformat_minor": 5
}
